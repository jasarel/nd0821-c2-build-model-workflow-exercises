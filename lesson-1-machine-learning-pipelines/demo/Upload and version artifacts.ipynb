{
 "cells": [
  {
   "cell_type": "markdown",
   "id": "5844ef59",
   "metadata": {},
   "source": [
    "# Import Weights & Biases"
   ]
  },
  {
   "cell_type": "code",
   "execution_count": 1,
   "id": "c6d177b2",
   "metadata": {},
   "outputs": [],
   "source": [
    "import wandb"
   ]
  },
  {
   "cell_type": "markdown",
   "id": "e7e89a57",
   "metadata": {},
   "source": [
    "# Create an artifact\n",
    "(pretend it is the output of a component)"
   ]
  },
  {
   "cell_type": "code",
   "execution_count": 2,
   "id": "4618e466",
   "metadata": {},
   "outputs": [],
   "source": [
    "with open(\"my_artifact.txt\", \"w+\") as fp:\n",
    "    fp.write(\"This is an example of an artifact\")"
   ]
  },
  {
   "cell_type": "code",
   "execution_count": 3,
   "id": "f8d8a89b",
   "metadata": {},
   "outputs": [
    {
     "name": "stdout",
     "output_type": "stream",
     "text": [
      " my_artifact.txt\n",
      "'Upload and version artifacts-Copy1.ipynb'\n",
      "'Upload and version artifacts.ipynb'\n",
      " wandb\n"
     ]
    }
   ],
   "source": [
    "!ls"
   ]
  },
  {
   "cell_type": "markdown",
   "id": "da436402",
   "metadata": {},
   "source": [
    "# Upload to W&B"
   ]
  },
  {
   "cell_type": "code",
   "execution_count": 4,
   "id": "967fa080",
   "metadata": {},
   "outputs": [
    {
     "name": "stderr",
     "output_type": "stream",
     "text": [
      "\u001b[34m\u001b[1mwandb\u001b[0m: Currently logged in as: \u001b[33mabhiojha8\u001b[0m to \u001b[32mhttps://api.wandb.ai\u001b[0m. Use \u001b[1m`wandb login --relogin`\u001b[0m to force relogin\n"
     ]
    },
    {
     "data": {
      "text/html": [
       "creating run (0.0s)"
      ],
      "text/plain": [
       "<IPython.core.display.HTML object>"
      ]
     },
     "metadata": {},
     "output_type": "display_data"
    },
    {
     "data": {
      "text/html": [
       "Tracking run with wandb version 0.21.3"
      ],
      "text/plain": [
       "<IPython.core.display.HTML object>"
      ]
     },
     "metadata": {},
     "output_type": "display_data"
    },
    {
     "data": {
      "text/html": [
       "Run data is saved locally in <code>/home/abhiojha8/Documents/udacity/nd0821_sept2025/nd0821-c2-build-model-workflow-exercises/lesson-1-machine-learning-pipelines/demo/wandb/run-20250907_170409-84y9ummh</code>"
      ],
      "text/plain": [
       "<IPython.core.display.HTML object>"
      ]
     },
     "metadata": {},
     "output_type": "display_data"
    },
    {
     "data": {
      "text/html": [
       "Syncing run <strong><a href='https://wandb.ai/abhiojha8/demo_artifact_1/runs/84y9ummh' target=\"_blank\">laced-plant-1</a></strong> to <a href='https://wandb.ai/abhiojha8/demo_artifact_1' target=\"_blank\">Weights & Biases</a> (<a href='https://wandb.me/developer-guide' target=\"_blank\">docs</a>)<br>"
      ],
      "text/plain": [
       "<IPython.core.display.HTML object>"
      ]
     },
     "metadata": {},
     "output_type": "display_data"
    },
    {
     "data": {
      "text/html": [
       " View project at <a href='https://wandb.ai/abhiojha8/demo_artifact_1' target=\"_blank\">https://wandb.ai/abhiojha8/demo_artifact_1</a>"
      ],
      "text/plain": [
       "<IPython.core.display.HTML object>"
      ]
     },
     "metadata": {},
     "output_type": "display_data"
    },
    {
     "data": {
      "text/html": [
       " View run at <a href='https://wandb.ai/abhiojha8/demo_artifact_1/runs/84y9ummh' target=\"_blank\">https://wandb.ai/abhiojha8/demo_artifact_1/runs/84y9ummh</a>"
      ],
      "text/plain": [
       "<IPython.core.display.HTML object>"
      ]
     },
     "metadata": {},
     "output_type": "display_data"
    }
   ],
   "source": [
    "run = wandb.init(project=\"demo_artifact_1\", group=\"experiment_1\")"
   ]
  },
  {
   "cell_type": "code",
   "execution_count": 5,
   "id": "a9b7ca0b",
   "metadata": {},
   "outputs": [],
   "source": [
    "artifact = wandb.Artifact(\n",
    "    name=\"my_artifact.txt\", \n",
    "    type=\"data\", \n",
    "    description=\"This is an example of an artifact\",\n",
    "    metadata={\n",
    "        \"key_1\": \"value_1\"\n",
    "    }\n",
    ")"
   ]
  },
  {
   "cell_type": "code",
   "execution_count": 6,
   "id": "8cd70539",
   "metadata": {},
   "outputs": [
    {
     "data": {
      "text/plain": [
       "ArtifactManifestEntry(path='my_artifact.txt', digest='bStOq42zZ7Ka3e5ArNjTIg==', size=33, local_path='/home/abhiojha8/.local/share/wandb/artifacts/staging/tmp4san3cu3', skip_cache=False)"
      ]
     },
     "execution_count": 6,
     "metadata": {},
     "output_type": "execute_result"
    }
   ],
   "source": [
    "artifact.add_file(\"my_artifact.txt\")"
   ]
  },
  {
   "cell_type": "code",
   "execution_count": 7,
   "id": "cdd3534f",
   "metadata": {},
   "outputs": [
    {
     "data": {
      "text/plain": [
       "<Artifact my_artifact.txt>"
      ]
     },
     "execution_count": 7,
     "metadata": {},
     "output_type": "execute_result"
    }
   ],
   "source": [
    "run.log_artifact(artifact)"
   ]
  },
  {
   "cell_type": "code",
   "execution_count": 8,
   "id": "34e62a4c",
   "metadata": {},
   "outputs": [
    {
     "data": {
      "text/html": [],
      "text/plain": [
       "<IPython.core.display.HTML object>"
      ]
     },
     "metadata": {},
     "output_type": "display_data"
    },
    {
     "data": {
      "text/html": [
       " View run <strong style=\"color:#cdcd00\">laced-plant-1</strong> at: <a href='https://wandb.ai/abhiojha8/demo_artifact_1/runs/84y9ummh' target=\"_blank\">https://wandb.ai/abhiojha8/demo_artifact_1/runs/84y9ummh</a><br> View project at: <a href='https://wandb.ai/abhiojha8/demo_artifact_1' target=\"_blank\">https://wandb.ai/abhiojha8/demo_artifact_1</a><br>Synced 5 W&B file(s), 0 media file(s), 2 artifact file(s) and 0 other file(s)"
      ],
      "text/plain": [
       "<IPython.core.display.HTML object>"
      ]
     },
     "metadata": {},
     "output_type": "display_data"
    },
    {
     "data": {
      "text/html": [
       "Find logs at: <code>./wandb/run-20250907_170409-84y9ummh/logs</code>"
      ],
      "text/plain": [
       "<IPython.core.display.HTML object>"
      ]
     },
     "metadata": {},
     "output_type": "display_data"
    }
   ],
   "source": [
    "run.finish()"
   ]
  },
  {
   "cell_type": "markdown",
   "id": "06fb6d0b",
   "metadata": {},
   "source": [
    "# Generate a new version by changing the artifact"
   ]
  },
  {
   "cell_type": "code",
   "execution_count": 9,
   "id": "e06e1b99",
   "metadata": {},
   "outputs": [
    {
     "data": {
      "text/html": [],
      "text/plain": [
       "<IPython.core.display.HTML object>"
      ]
     },
     "metadata": {},
     "output_type": "display_data"
    },
    {
     "data": {
      "text/html": [
       "Tracking run with wandb version 0.21.3"
      ],
      "text/plain": [
       "<IPython.core.display.HTML object>"
      ]
     },
     "metadata": {},
     "output_type": "display_data"
    },
    {
     "data": {
      "text/html": [
       "Run data is saved locally in <code>/home/abhiojha8/Documents/udacity/nd0821_sept2025/nd0821-c2-build-model-workflow-exercises/lesson-1-machine-learning-pipelines/demo/wandb/run-20250907_170414-kyoee9wr</code>"
      ],
      "text/plain": [
       "<IPython.core.display.HTML object>"
      ]
     },
     "metadata": {},
     "output_type": "display_data"
    },
    {
     "data": {
      "text/html": [
       "Syncing run <strong><a href='https://wandb.ai/abhiojha8/demo_artifact_1/runs/kyoee9wr' target=\"_blank\">worthy-wave-2</a></strong> to <a href='https://wandb.ai/abhiojha8/demo_artifact_1' target=\"_blank\">Weights & Biases</a> (<a href='https://wandb.me/developer-guide' target=\"_blank\">docs</a>)<br>"
      ],
      "text/plain": [
       "<IPython.core.display.HTML object>"
      ]
     },
     "metadata": {},
     "output_type": "display_data"
    },
    {
     "data": {
      "text/html": [
       " View project at <a href='https://wandb.ai/abhiojha8/demo_artifact_1' target=\"_blank\">https://wandb.ai/abhiojha8/demo_artifact_1</a>"
      ],
      "text/plain": [
       "<IPython.core.display.HTML object>"
      ]
     },
     "metadata": {},
     "output_type": "display_data"
    },
    {
     "data": {
      "text/html": [
       " View run at <a href='https://wandb.ai/abhiojha8/demo_artifact_1/runs/kyoee9wr' target=\"_blank\">https://wandb.ai/abhiojha8/demo_artifact_1/runs/kyoee9wr</a>"
      ],
      "text/plain": [
       "<IPython.core.display.HTML object>"
      ]
     },
     "metadata": {},
     "output_type": "display_data"
    },
    {
     "data": {
      "text/plain": [
       "<Artifact my_artifact.txt>"
      ]
     },
     "execution_count": 9,
     "metadata": {},
     "output_type": "execute_result"
    }
   ],
   "source": [
    "with open(\"my_artifact.txt\", \"w+\") as fp:\n",
    "    fp.write(\"This is an example of an artifact changed\")\n",
    "\n",
    "run = wandb.init(project=\"demo_artifact_1\", group=\"experiment_1\")\n",
    "\n",
    "artifact = wandb.Artifact(\n",
    "    name=\"my_artifact.txt\", \n",
    "    type=\"data\", \n",
    "    description=\"This is an example of an artifact\",\n",
    "    metadata={\n",
    "        \"key_1\": \"value_1\"\n",
    "    }\n",
    ")\n",
    "artifact.add_file(\"my_artifact.txt\")\n",
    "run.log_artifact(artifact)\n"
   ]
  },
  {
   "cell_type": "code",
   "execution_count": 10,
   "id": "92e06460",
   "metadata": {},
   "outputs": [
    {
     "data": {
      "text/html": [],
      "text/plain": [
       "<IPython.core.display.HTML object>"
      ]
     },
     "metadata": {},
     "output_type": "display_data"
    },
    {
     "data": {
      "text/html": [
       " View run <strong style=\"color:#cdcd00\">worthy-wave-2</strong> at: <a href='https://wandb.ai/abhiojha8/demo_artifact_1/runs/kyoee9wr' target=\"_blank\">https://wandb.ai/abhiojha8/demo_artifact_1/runs/kyoee9wr</a><br> View project at: <a href='https://wandb.ai/abhiojha8/demo_artifact_1' target=\"_blank\">https://wandb.ai/abhiojha8/demo_artifact_1</a><br>Synced 5 W&B file(s), 0 media file(s), 2 artifact file(s) and 0 other file(s)"
      ],
      "text/plain": [
       "<IPython.core.display.HTML object>"
      ]
     },
     "metadata": {},
     "output_type": "display_data"
    },
    {
     "data": {
      "text/html": [
       "Find logs at: <code>./wandb/run-20250907_170414-kyoee9wr/logs</code>"
      ],
      "text/plain": [
       "<IPython.core.display.HTML object>"
      ]
     },
     "metadata": {},
     "output_type": "display_data"
    }
   ],
   "source": [
    "run.finish()"
   ]
  },
  {
   "cell_type": "markdown",
   "id": "5f840433",
   "metadata": {},
   "source": [
    "# Re-upload the same artifact\n",
    "(the version will not change)"
   ]
  },
  {
   "cell_type": "code",
   "execution_count": 11,
   "id": "9bd1b7e4",
   "metadata": {},
   "outputs": [
    {
     "data": {
      "text/html": [],
      "text/plain": [
       "<IPython.core.display.HTML object>"
      ]
     },
     "metadata": {},
     "output_type": "display_data"
    },
    {
     "data": {
      "text/html": [
       "Tracking run with wandb version 0.21.3"
      ],
      "text/plain": [
       "<IPython.core.display.HTML object>"
      ]
     },
     "metadata": {},
     "output_type": "display_data"
    },
    {
     "data": {
      "text/html": [
       "Run data is saved locally in <code>/home/abhiojha8/Documents/udacity/nd0821_sept2025/nd0821-c2-build-model-workflow-exercises/lesson-1-machine-learning-pipelines/demo/wandb/run-20250907_170420-qrg017wg</code>"
      ],
      "text/plain": [
       "<IPython.core.display.HTML object>"
      ]
     },
     "metadata": {},
     "output_type": "display_data"
    },
    {
     "data": {
      "text/html": [
       "Syncing run <strong><a href='https://wandb.ai/abhiojha8/demo_artifact_1/runs/qrg017wg' target=\"_blank\">exalted-aardvark-3</a></strong> to <a href='https://wandb.ai/abhiojha8/demo_artifact_1' target=\"_blank\">Weights & Biases</a> (<a href='https://wandb.me/developer-guide' target=\"_blank\">docs</a>)<br>"
      ],
      "text/plain": [
       "<IPython.core.display.HTML object>"
      ]
     },
     "metadata": {},
     "output_type": "display_data"
    },
    {
     "data": {
      "text/html": [
       " View project at <a href='https://wandb.ai/abhiojha8/demo_artifact_1' target=\"_blank\">https://wandb.ai/abhiojha8/demo_artifact_1</a>"
      ],
      "text/plain": [
       "<IPython.core.display.HTML object>"
      ]
     },
     "metadata": {},
     "output_type": "display_data"
    },
    {
     "data": {
      "text/html": [
       " View run at <a href='https://wandb.ai/abhiojha8/demo_artifact_1/runs/qrg017wg' target=\"_blank\">https://wandb.ai/abhiojha8/demo_artifact_1/runs/qrg017wg</a>"
      ],
      "text/plain": [
       "<IPython.core.display.HTML object>"
      ]
     },
     "metadata": {},
     "output_type": "display_data"
    },
    {
     "data": {
      "text/html": [],
      "text/plain": [
       "<IPython.core.display.HTML object>"
      ]
     },
     "metadata": {},
     "output_type": "display_data"
    },
    {
     "data": {
      "text/html": [
       " View run <strong style=\"color:#cdcd00\">exalted-aardvark-3</strong> at: <a href='https://wandb.ai/abhiojha8/demo_artifact_1/runs/qrg017wg' target=\"_blank\">https://wandb.ai/abhiojha8/demo_artifact_1/runs/qrg017wg</a><br> View project at: <a href='https://wandb.ai/abhiojha8/demo_artifact_1' target=\"_blank\">https://wandb.ai/abhiojha8/demo_artifact_1</a><br>Synced 5 W&B file(s), 0 media file(s), 0 artifact file(s) and 0 other file(s)"
      ],
      "text/plain": [
       "<IPython.core.display.HTML object>"
      ]
     },
     "metadata": {},
     "output_type": "display_data"
    },
    {
     "data": {
      "text/html": [
       "Find logs at: <code>./wandb/run-20250907_170420-qrg017wg/logs</code>"
      ],
      "text/plain": [
       "<IPython.core.display.HTML object>"
      ]
     },
     "metadata": {},
     "output_type": "display_data"
    }
   ],
   "source": [
    "with open(\"my_artifact.txt\", \"w+\") as fp:\n",
    "    fp.write(\"This is an example of an artifact changed\")\n",
    "\n",
    "run = wandb.init(project=\"demo_artifact_1\", group=\"experiment_1\")\n",
    "\n",
    "artifact = wandb.Artifact(\n",
    "    name=\"my_artifact.txt\", \n",
    "    type=\"data\", \n",
    "    description=\"This is an example of an artifact\",\n",
    "    metadata={\n",
    "        \"key_1\": \"value_1\"\n",
    "    }\n",
    ")\n",
    "artifact.add_file(\"my_artifact.txt\")\n",
    "run.log_artifact(artifact)\n",
    "run.finish()"
   ]
  },
  {
   "cell_type": "markdown",
   "id": "2c27c7e5",
   "metadata": {},
   "source": [
    "# Using runs with context managers\n",
    "(show that the version does not change even across multiple runs if the artifact does not change)"
   ]
  },
  {
   "cell_type": "code",
   "execution_count": 12,
   "id": "b63d3ff3",
   "metadata": {},
   "outputs": [
    {
     "data": {
      "text/html": [],
      "text/plain": [
       "<IPython.core.display.HTML object>"
      ]
     },
     "metadata": {},
     "output_type": "display_data"
    },
    {
     "data": {
      "text/html": [
       "Tracking run with wandb version 0.21.3"
      ],
      "text/plain": [
       "<IPython.core.display.HTML object>"
      ]
     },
     "metadata": {},
     "output_type": "display_data"
    },
    {
     "data": {
      "text/html": [
       "Run data is saved locally in <code>/home/abhiojha8/Documents/udacity/nd0821_sept2025/nd0821-c2-build-model-workflow-exercises/lesson-1-machine-learning-pipelines/demo/wandb/run-20250907_170424-oz4chx6z</code>"
      ],
      "text/plain": [
       "<IPython.core.display.HTML object>"
      ]
     },
     "metadata": {},
     "output_type": "display_data"
    },
    {
     "data": {
      "text/html": [
       "Syncing run <strong><a href='https://wandb.ai/abhiojha8/multiple_runs/runs/oz4chx6z' target=\"_blank\">feasible-vortex-1</a></strong> to <a href='https://wandb.ai/abhiojha8/multiple_runs' target=\"_blank\">Weights & Biases</a> (<a href='https://wandb.me/developer-guide' target=\"_blank\">docs</a>)<br>"
      ],
      "text/plain": [
       "<IPython.core.display.HTML object>"
      ]
     },
     "metadata": {},
     "output_type": "display_data"
    },
    {
     "data": {
      "text/html": [
       " View project at <a href='https://wandb.ai/abhiojha8/multiple_runs' target=\"_blank\">https://wandb.ai/abhiojha8/multiple_runs</a>"
      ],
      "text/plain": [
       "<IPython.core.display.HTML object>"
      ]
     },
     "metadata": {},
     "output_type": "display_data"
    },
    {
     "data": {
      "text/html": [
       " View run at <a href='https://wandb.ai/abhiojha8/multiple_runs/runs/oz4chx6z' target=\"_blank\">https://wandb.ai/abhiojha8/multiple_runs/runs/oz4chx6z</a>"
      ],
      "text/plain": [
       "<IPython.core.display.HTML object>"
      ]
     },
     "metadata": {},
     "output_type": "display_data"
    },
    {
     "data": {
      "text/html": [],
      "text/plain": [
       "<IPython.core.display.HTML object>"
      ]
     },
     "metadata": {},
     "output_type": "display_data"
    },
    {
     "data": {
      "text/html": [
       " View run <strong style=\"color:#cdcd00\">feasible-vortex-1</strong> at: <a href='https://wandb.ai/abhiojha8/multiple_runs/runs/oz4chx6z' target=\"_blank\">https://wandb.ai/abhiojha8/multiple_runs/runs/oz4chx6z</a><br> View project at: <a href='https://wandb.ai/abhiojha8/multiple_runs' target=\"_blank\">https://wandb.ai/abhiojha8/multiple_runs</a><br>Synced 5 W&B file(s), 0 media file(s), 0 artifact file(s) and 0 other file(s)"
      ],
      "text/plain": [
       "<IPython.core.display.HTML object>"
      ]
     },
     "metadata": {},
     "output_type": "display_data"
    },
    {
     "data": {
      "text/html": [
       "Find logs at: <code>./wandb/run-20250907_170424-oz4chx6z/logs</code>"
      ],
      "text/plain": [
       "<IPython.core.display.HTML object>"
      ]
     },
     "metadata": {},
     "output_type": "display_data"
    },
    {
     "data": {
      "text/html": [
       "creating run (0.0s)"
      ],
      "text/plain": [
       "<IPython.core.display.HTML object>"
      ]
     },
     "metadata": {},
     "output_type": "display_data"
    },
    {
     "data": {
      "text/html": [
       "Tracking run with wandb version 0.21.3"
      ],
      "text/plain": [
       "<IPython.core.display.HTML object>"
      ]
     },
     "metadata": {},
     "output_type": "display_data"
    },
    {
     "data": {
      "text/html": [
       "Run data is saved locally in <code>/home/abhiojha8/Documents/udacity/nd0821_sept2025/nd0821-c2-build-model-workflow-exercises/lesson-1-machine-learning-pipelines/demo/wandb/run-20250907_170429-6ldoacdj</code>"
      ],
      "text/plain": [
       "<IPython.core.display.HTML object>"
      ]
     },
     "metadata": {},
     "output_type": "display_data"
    },
    {
     "data": {
      "text/html": [
       "Syncing run <strong><a href='https://wandb.ai/abhiojha8/multiple_runs/runs/6ldoacdj' target=\"_blank\">expert-dawn-2</a></strong> to <a href='https://wandb.ai/abhiojha8/multiple_runs' target=\"_blank\">Weights & Biases</a> (<a href='https://wandb.me/developer-guide' target=\"_blank\">docs</a>)<br>"
      ],
      "text/plain": [
       "<IPython.core.display.HTML object>"
      ]
     },
     "metadata": {},
     "output_type": "display_data"
    },
    {
     "data": {
      "text/html": [
       " View project at <a href='https://wandb.ai/abhiojha8/multiple_runs' target=\"_blank\">https://wandb.ai/abhiojha8/multiple_runs</a>"
      ],
      "text/plain": [
       "<IPython.core.display.HTML object>"
      ]
     },
     "metadata": {},
     "output_type": "display_data"
    },
    {
     "data": {
      "text/html": [
       " View run at <a href='https://wandb.ai/abhiojha8/multiple_runs/runs/6ldoacdj' target=\"_blank\">https://wandb.ai/abhiojha8/multiple_runs/runs/6ldoacdj</a>"
      ],
      "text/plain": [
       "<IPython.core.display.HTML object>"
      ]
     },
     "metadata": {},
     "output_type": "display_data"
    },
    {
     "data": {
      "text/html": [],
      "text/plain": [
       "<IPython.core.display.HTML object>"
      ]
     },
     "metadata": {},
     "output_type": "display_data"
    },
    {
     "data": {
      "text/html": [
       " View run <strong style=\"color:#cdcd00\">expert-dawn-2</strong> at: <a href='https://wandb.ai/abhiojha8/multiple_runs/runs/6ldoacdj' target=\"_blank\">https://wandb.ai/abhiojha8/multiple_runs/runs/6ldoacdj</a><br> View project at: <a href='https://wandb.ai/abhiojha8/multiple_runs' target=\"_blank\">https://wandb.ai/abhiojha8/multiple_runs</a><br>Synced 5 W&B file(s), 0 media file(s), 0 artifact file(s) and 0 other file(s)"
      ],
      "text/plain": [
       "<IPython.core.display.HTML object>"
      ]
     },
     "metadata": {},
     "output_type": "display_data"
    },
    {
     "data": {
      "text/html": [
       "Find logs at: <code>./wandb/run-20250907_170429-6ldoacdj/logs</code>"
      ],
      "text/plain": [
       "<IPython.core.display.HTML object>"
      ]
     },
     "metadata": {},
     "output_type": "display_data"
    }
   ],
   "source": [
    "with wandb.init(project=\"multiple_runs\") as run:\n",
    "    \n",
    "    artifact = wandb.Artifact(\n",
    "    name=\"my_artifact.txt\", \n",
    "    type=\"data\", \n",
    "    description=\"This is an example of an artifact\",\n",
    "    metadata={\n",
    "        \"key_1\": \"value_1\"\n",
    "    }\n",
    "    )\n",
    "    artifact.add_file(\"my_artifact.txt\")\n",
    "\n",
    "with wandb.init(project=\"multiple_runs\") as run:\n",
    "    \n",
    "    artifact = wandb.Artifact(\n",
    "    name=\"my_artifact.txt\", \n",
    "    type=\"data\", \n",
    "    description=\"This is an example of an artifact\",\n",
    "    metadata={\n",
    "        \"key_1\": \"value_1\"\n",
    "    }\n",
    "    )\n",
    "    artifact.add_file(\"my_artifact.txt\")"
   ]
  },
  {
   "cell_type": "code",
   "execution_count": null,
   "id": "03015755",
   "metadata": {},
   "outputs": [],
   "source": []
  }
 ],
 "metadata": {
  "kernelspec": {
   "display_name": ".venv",
   "language": "python",
   "name": "python3"
  },
  "language_info": {
   "codemirror_mode": {
    "name": "ipython",
    "version": 3
   },
   "file_extension": ".py",
   "mimetype": "text/x-python",
   "name": "python",
   "nbconvert_exporter": "python",
   "pygments_lexer": "ipython3",
   "version": "3.13.7"
  }
 },
 "nbformat": 4,
 "nbformat_minor": 5
}
